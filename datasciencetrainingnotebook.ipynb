{
 "cells": [
  {
   "cell_type": "markdown",
   "metadata": {},
   "source": [
    "# Get Data from files and help to make a breastcancer diagnosis\n",
    "\n",
    "This litte coding example will show you the basics of data science with python.\n",
    "First we will add imports we need to import, shape and display our data:\n",
    "\n",
    "We will import [**numpy**](http://www.numpy.org/), [**Pandas**](https://pandas.pydata.org/)  and [**matplotlib**](https://matplotlib.org). With this libaries we will be able to handle arrays, load data into our project, shape them to the state we need and plot graphics helping us to understand what this numbers mean basically.\n",
    "\n",
    "Ok let us import this libaries"
   ]
  },
  {
   "cell_type": "code",
   "execution_count": null,
   "metadata": {},
   "outputs": [],
   "source": [
    "# -*- coding: utf-8 -*-\n",
    "import numpy as np\n",
    "import pandas as pd\n",
    "import matplotlib.pyplot as plt "
   ]
  },
  {
   "cell_type": "markdown",
   "metadata": {},
   "source": [
    "#### Load the dataset\n",
    "\n",
    "Next step will be to load a dataset this dataset is from https://archive.ics.uci.edu/ml/machine-learning-databases/breast-cancer/. \n",
    "This page is offering a lot of datasets for training or playing with it and learning data science and machine learning."
   ]
  },
  {
   "cell_type": "code",
   "execution_count": null,
   "metadata": {},
   "outputs": [],
   "source": [
    "Cov = pd.read_csv(\"breast-cancer.csv\", delimiter=',')"
   ]
  },
  {
   "cell_type": "markdown",
   "metadata": {},
   "source": [
    "#### Check the Dataset\n",
    "\n",
    "It seems that there is no headline in the dataset, so there are missing important information. We have to go to the [**site**](https://archive.ics.uci.edu/ml/datasets/Breast+Cancer) we loaded the Dataset and get the headline from the documentation how it looks like this moment.\n",
    "\n",
    "1. Class: no-recurrence-events, recurrence-events \n",
    "2. age: 10-19, 20-29, 30-39, 40-49, 50-59, 60-69, 70-79, 80-89, 90-99. \n",
    "3. menopause: lt40, ge40, premeno. \n",
    "4. tumor-size: 0-4, 5-9, 10-14, 15-19, 20-24, 25-29, 30-34, 35-39, 40-44, 45-49, 50-54, 55-59. \n",
    "5. inv-nodes: 0-2, 3-5, 6-8, 9-11, 12-14, 15-17, 18-20, 21-23, 24-26, 27-29, 30-32, 33-35, 36-39. \n",
    "6. node-caps: yes, no. \n",
    "7. deg-malig: 1, 2, 3. \n",
    "8. breast: left, right. \n",
    "9. breast-quad: left-up, left-low, right-up, right-low, central. \n",
    "10. irradiat: yes, no.\n",
    "\n",
    "So now lets add this headline to our dataset:"
   ]
  },
  {
   "cell_type": "code",
   "execution_count": null,
   "metadata": {},
   "outputs": [],
   "source": [
    "Frame=pd.DataFrame(Cov.values, columns = [\"class\",\"age\",\"menopause\", \"tumor-size\",\"inv-nodes\",\"node-caps\",\"deg-malig\",\"breast\",\"breast-quad\",\"irradiat\"])\n"
   ]
  },
  {
   "cell_type": "markdown",
   "metadata": {},
   "source": [
    "#### Generate csv with corrected Data"
   ]
  },
  {
   "cell_type": "code",
   "execution_count": null,
   "metadata": {},
   "outputs": [],
   "source": [
    "Frame.to_csv(\"breast-cancer-head-line.csv\", sep=',')\n",
    "df = pd.read_csv(\"breast-cancer-head-line.csv\", delimiter=',', index_col=0)"
   ]
  },
  {
   "cell_type": "markdown",
   "metadata": {},
   "source": [
    "#### Generate an exel from the Data to offer this to 'non developer'"
   ]
  },
  {
   "cell_type": "code",
   "execution_count": null,
   "metadata": {},
   "outputs": [],
   "source": [
    "df.to_excel(\"breast-cancer-head-line.xls\", sheet_name=\"data\")"
   ]
  },
  {
   "cell_type": "markdown",
   "metadata": {},
   "source": [
    "#### Get first entries for our data"
   ]
  },
  {
   "cell_type": "code",
   "execution_count": null,
   "metadata": {},
   "outputs": [],
   "source": [
    "df.head(5)"
   ]
  },
  {
   "cell_type": "markdown",
   "metadata": {},
   "source": [
    "#### Get an first overview about the Data"
   ]
  },
  {
   "cell_type": "code",
   "execution_count": null,
   "metadata": {},
   "outputs": [],
   "source": [
    "df.shape"
   ]
  },
  {
   "cell_type": "code",
   "execution_count": null,
   "metadata": {
    "scrolled": true
   },
   "outputs": [],
   "source": [
    "df.describe()"
   ]
  },
  {
   "cell_type": "markdown",
   "metadata": {},
   "source": [
    "## matplotlib\n",
    "\n",
    "Now we start to use matplotlib. The idea is to give our data informative graphics to understand it better. First we need to konfigurate the shape of our graphics as well as the size and colour.\n"
   ]
  },
  {
   "cell_type": "code",
   "execution_count": null,
   "metadata": {},
   "outputs": [],
   "source": [
    "%matplotlib inline\n",
    "plt.style.use('ggplot')\n",
    "plt.rcParams['figure.figsize'] = (16.0, 8.0)"
   ]
  },
  {
   "cell_type": "markdown",
   "metadata": {},
   "source": [
    "#### First Figure "
   ]
  },
  {
   "cell_type": "code",
   "execution_count": null,
   "metadata": {},
   "outputs": [],
   "source": [
    "plt.bar(x=df.age.unique(), height=df.age.value_counts())\n",
    "plt.xlabel('Age of patiens')\n",
    "plt.ylabel('Number patients')\n",
    "plt.suptitle('Distribution of patient age rage');"
   ]
  },
  {
   "cell_type": "markdown",
   "metadata": {},
   "source": [
    "#### Shaping datasets for plotting it\n",
    "\n",
    "Before we could start with displaying the data in different plots, we have to change it to a numeric writing. Because string is not supported by matplotlib diagramms.\n",
    "\n",
    "1. Class: no-recurrence-events = **0**, recurrence-events = **1** \n",
    "\n",
    "2. age: 10-19 = **10**, 20-29 = **20**, 30-39 = **30**, 40-49 = **40**, 50-59 = **50**, 60-69 = **60**, 70-79 = **70**, 80-89 = **80**, 90-99 = **90**.\n",
    "\n",
    "3. menopause: lt40 = **0**, ge40 = **1**, premeno = **2**. \n",
    "\n",
    "4. tumor-size: 0-4 = **0**, 5-9 = **5**, 10-14 = **10**, 15-19 = **15**, 20-24 = **20**, 25-29 = **25**, 30-34 = **30**, 35-39 = **35**, 40-44 = **40**, 45-49 = **45**, 50-54 = **50**, 55-59 = **55**.\n",
    "\n",
    "5. inv-nodes: 0-2 = **0**, 3-5 = **3**, 6-8 = **6**, 9-11 = **9**, 12-14 = **12**, 15-17 = **15**, 18-20 = **18**, 21-23 = **21**, 24-26 = **24**, 27-29 = **27**, 30-32 = **30**, 33-35 = **33**, 36-39 = **36**. \n",
    "\n",
    "6. node-caps: yes = **1**, no = **0**. \n",
    "\n",
    "7. deg-malig: 1, 2, 3. \n",
    "\n",
    "8. breast: left = **0**, right = **1**. \n",
    "\n",
    "9. breast-quad: left-up = **0**, left-low = **1**, right-up = **2**, right-low = **3**, central = **4**. \n",
    "\n",
    "10. irradiat: yes = **1**, no = **0**.\n",
    "\n",
    "Legend: lt40 means menopause before 40 years old\n",
    "ge40 means menopause after 40\n"
   ]
  },
  {
   "cell_type": "code",
   "execution_count": null,
   "metadata": {},
   "outputs": [],
   "source": [
    "#Change class\n",
    "#df['class'] = df['class'].map({'recurrence-events': 1, 'no-recurrence-events': 0})\n",
    "#Change Age \n",
    "df['age'] = df['age'].map({'10-19': 10, '20-29': 20, '30-39': 30, '40-49': 40, '50-59': 50, '60-69': 60, '70-79': 70, '80-89': 80, '90-99': 90})\n",
    "#Change Menopause\n",
    "#df['menopause'] = df['menopause'].map({'lt40': 0, 'ge40': 1, 'premeno': 2})\n",
    "#Change Tumor Size\n",
    "df['tumor-size'] = df['tumor-size'].map({'0-4': 0, '5-9': 5, '10-14': 10, '15-19': 15, '20-24': 20, '25-29': 25, '30-34': 30, '35-39': 35, '40-44': 40, '45-49': 45, '50-54': 50, '55-59': 55})\n",
    "#Change inv-nodes\n",
    "#df['inv-nodes'] = df['inv-nodes'].map({'0-2': 0, '3-5': 3, '6-8': 6, '9-11': 9, '12-14': 12, '15-17': 15, '18-20': 18, '21-23': 21, '24-26': 24, '27-29': 27, '30-32': 30, '33-35': 33, '36-39': 36})\n",
    "#Change node-caps\n",
    "#df['node-caps'] = df['node-caps'].map({'yes': 1, 'no': 0})\n",
    "#Change breast\n",
    "#df['breast'] = df['breast'].map({'right': 1, 'left': 0})\n",
    "#change breast-quad\n",
    "#df['breast-quad'] = df['breast-quad'].map({'left-up': 0, 'left-low': 1, 'right-up': 2, 'right-low': 3, 'central': 4})\n",
    "#change irradiat\n",
    "#df['irradiat'] = df['irradiat'].map({'yes': 1, 'no': 0})\n",
    "\n",
    "df.head()"
   ]
  },
  {
   "cell_type": "code",
   "execution_count": null,
   "metadata": {},
   "outputs": [],
   "source": [
    "plt.suptitle(\"Distribution of Age\")\n",
    "plt.hist(df['age'], \n",
    "         bins=6, \n",
    "         rwidth=0.9, \n",
    "         density = False, \n",
    "         color='dodgerblue')\n",
    "plt.xlabel('Age in Centuries')\n",
    "plt.ylabel('Number of entries per bin');"
   ]
  },
  {
   "cell_type": "code",
   "execution_count": null,
   "metadata": {},
   "outputs": [],
   "source": [
    "plt.suptitle(\"Tumor size vs Age\")\n",
    "plt.scatter(x=df[df['tumor-size'] < 90]['age'], \n",
    "            y=df[df['tumor-size'] < 70]['tumor-size'], \n",
    "            marker='.', \n",
    "            alpha=0.1, \n",
    "            color='dodgerblue')\n",
    "plt.xlabel('Tumor Size in mm')\n",
    "plt.ylabel('Age in Centuries');"
   ]
  },
  {
   "cell_type": "code",
   "execution_count": null,
   "metadata": {},
   "outputs": [],
   "source": [
    "#Change Menopause\n",
    "df['menopause'] = df['menopause'].map({'lt40': 0, 'ge40': 1, 'premeno': 2})\n",
    "df.head()"
   ]
  },
  {
   "cell_type": "code",
   "execution_count": null,
   "metadata": {},
   "outputs": [],
   "source": [
    "plt.suptitle(\"Menopause size vs Age\")\n",
    "plt.scatter(x=df[df['menopause'] < 3]['age'], \n",
    "            y=df[df['menopause'] < 3]['menopause'], \n",
    "            marker='.', \n",
    "            alpha=0.1, \n",
    "            color='dodgerblue')\n",
    "plt.xlabel('Menopause lt40 = **0**, ge40 = **1**, premeno = **2**. ')\n",
    "plt.ylabel('Age in Centuries');"
   ]
  },
  {
   "cell_type": "code",
   "execution_count": null,
   "metadata": {},
   "outputs": [],
   "source": []
  }
 ],
 "metadata": {
  "kernelspec": {
   "display_name": "Python 3",
   "language": "python",
   "name": "python3"
  },
  "language_info": {
   "codemirror_mode": {
    "name": "ipython",
    "version": 3
   },
   "file_extension": ".py",
   "mimetype": "text/x-python",
   "name": "python",
   "nbconvert_exporter": "python",
   "pygments_lexer": "ipython3",
   "version": "3.7.1"
  }
 },
 "nbformat": 4,
 "nbformat_minor": 2
}
